{
 "cells": [
  {
   "cell_type": "markdown",
   "id": "365f6adb",
   "metadata": {},
   "source": [
    "Gett, previously known as GetTaxi, is an Israeli-developed technology platform solely focused on corporate Ground Transportation Management (GTM). They have an application where clients can order taxis, and drivers can accept their rides (offers). At the moment, when the client clicks the Order button in the application, the matching system searches for the most relevant drivers and offers them the order. In this task, I would like to investigate some matching metrics for orders that did not completed successfully, i.e., the customer didn't end up getting a car."
   ]
  },
  {
   "cell_type": "markdown",
   "id": "3baef1ad",
   "metadata": {},
   "source": [
    "# Assignment\n",
    "Please complete the following tasks.\n",
    "\n",
    "1.Build up distribution of orders according to reasons for failure: cancellations before and after driver assignment, and reasons for order rejection. Analyse the resulting plot. Which category has the highest number of orders?\n",
    "\n",
    "2.Plot the distribution of failed orders by hours. Is there a trend that certain hours have an abnormally high proportion of one category or another? What hours are the biggest fails? How can this be explained?\n",
    "\n",
    "3.Plot the average time to cancellation with and without driver, by the hour. If there are any outliers in the data, it would be better to remove them. Can we draw any conclusions from this plot?\n",
    "\n",
    "4.Plot the distribution of average ETA by hours. How can this plot be explained?"
   ]
  },
  {
   "cell_type": "markdown",
   "id": "f5b3247a",
   "metadata": {},
   "source": [
    "# Data Description\n",
    "\n",
    "We have two data sets: data_orders and data_offers, both being stored in a CSV format. The data_orders data set contains the following columns:\n",
    "\n",
    "order_datetime - time of the order\n",
    "\n",
    "origin_longitude - longitude of the order\n",
    "\n",
    "origin_latitude - latitude of the order\n",
    "\n",
    "m_order_eta - time before order arrival\n",
    "\n",
    "order_gk - order number\n",
    "\n",
    "order_status_key - status, an enumeration consisting of the following mapping:\n",
    "4 - cancelled by client,\n",
    "9 - cancelled by system, i.e., a reject\n",
    "\n",
    "is_driver_assigned_key - whether a driver has been assigned\n",
    "\n",
    "cancellation_time_in_seconds - how many seconds passed before cancellation\n",
    "\n",
    "\n",
    "\n",
    "The data_offers data set is a simple map with 2 columns:\n",
    "\n",
    "order_gk - order number, associated with the same column from the orders data set\n",
    "offer_id - ID of an offer"
   ]
  },
  {
   "cell_type": "markdown",
   "id": "b747d360",
   "metadata": {},
   "source": [
    "# Read and Explore the Datasets"
   ]
  },
  {
   "cell_type": "code",
   "execution_count": 1,
   "id": "9dbd6eaa",
   "metadata": {},
   "outputs": [],
   "source": [
    "import pandas as pd\n"
   ]
  },
  {
   "cell_type": "code",
   "execution_count": 2,
   "id": "ff48e334",
   "metadata": {},
   "outputs": [],
   "source": [
    "orders = pd.read_csv(filepath_or_buffer=\"data_orders.csv\")\n"
   ]
  },
  {
   "cell_type": "code",
   "execution_count": 3,
   "id": "f4a12ff6",
   "metadata": {},
   "outputs": [
    {
     "data": {
      "text/plain": [
       "(10716, 8)"
      ]
     },
     "execution_count": 3,
     "metadata": {},
     "output_type": "execute_result"
    }
   ],
   "source": [
    "# rows, columns\n",
    "orders.shape"
   ]
  },
  {
   "cell_type": "code",
   "execution_count": 4,
   "id": "e2058f1d",
   "metadata": {},
   "outputs": [
    {
     "data": {
      "text/html": [
       "<div>\n",
       "<style scoped>\n",
       "    .dataframe tbody tr th:only-of-type {\n",
       "        vertical-align: middle;\n",
       "    }\n",
       "\n",
       "    .dataframe tbody tr th {\n",
       "        vertical-align: top;\n",
       "    }\n",
       "\n",
       "    .dataframe thead th {\n",
       "        text-align: right;\n",
       "    }\n",
       "</style>\n",
       "<table border=\"1\" class=\"dataframe\">\n",
       "  <thead>\n",
       "    <tr style=\"text-align: right;\">\n",
       "      <th></th>\n",
       "      <th>order_datetime</th>\n",
       "      <th>origin_longitude</th>\n",
       "      <th>origin_latitude</th>\n",
       "      <th>m_order_eta</th>\n",
       "      <th>order_gk</th>\n",
       "      <th>order_status_key</th>\n",
       "      <th>is_driver_assigned_key</th>\n",
       "      <th>cancellations_time_in_seconds</th>\n",
       "    </tr>\n",
       "  </thead>\n",
       "  <tbody>\n",
       "    <tr>\n",
       "      <th>10309</th>\n",
       "      <td>00:29:14</td>\n",
       "      <td>-0.966062</td>\n",
       "      <td>51.454821</td>\n",
       "      <td>NaN</td>\n",
       "      <td>3000555146103</td>\n",
       "      <td>4</td>\n",
       "      <td>0</td>\n",
       "      <td>44.0</td>\n",
       "    </tr>\n",
       "    <tr>\n",
       "      <th>6705</th>\n",
       "      <td>01:28:45</td>\n",
       "      <td>-0.970472</td>\n",
       "      <td>51.456725</td>\n",
       "      <td>NaN</td>\n",
       "      <td>3000595870644</td>\n",
       "      <td>4</td>\n",
       "      <td>0</td>\n",
       "      <td>121.0</td>\n",
       "    </tr>\n",
       "    <tr>\n",
       "      <th>304</th>\n",
       "      <td>08:22:36</td>\n",
       "      <td>-0.916708</td>\n",
       "      <td>51.439852</td>\n",
       "      <td>NaN</td>\n",
       "      <td>3000627783633</td>\n",
       "      <td>9</td>\n",
       "      <td>0</td>\n",
       "      <td>NaN</td>\n",
       "    </tr>\n",
       "    <tr>\n",
       "      <th>9143</th>\n",
       "      <td>07:32:27</td>\n",
       "      <td>-0.955580</td>\n",
       "      <td>51.453493</td>\n",
       "      <td>1078.0</td>\n",
       "      <td>3000622140805</td>\n",
       "      <td>4</td>\n",
       "      <td>1</td>\n",
       "      <td>1017.0</td>\n",
       "    </tr>\n",
       "    <tr>\n",
       "      <th>10593</th>\n",
       "      <td>04:39:55</td>\n",
       "      <td>-0.946358</td>\n",
       "      <td>51.439779</td>\n",
       "      <td>NaN</td>\n",
       "      <td>3000554645524</td>\n",
       "      <td>4</td>\n",
       "      <td>0</td>\n",
       "      <td>121.0</td>\n",
       "    </tr>\n",
       "    <tr>\n",
       "      <th>8654</th>\n",
       "      <td>08:05:02</td>\n",
       "      <td>-0.967327</td>\n",
       "      <td>51.449395</td>\n",
       "      <td>598.0</td>\n",
       "      <td>3000592772077</td>\n",
       "      <td>4</td>\n",
       "      <td>1</td>\n",
       "      <td>48.0</td>\n",
       "    </tr>\n",
       "    <tr>\n",
       "      <th>3919</th>\n",
       "      <td>00:21:47</td>\n",
       "      <td>-0.971597</td>\n",
       "      <td>51.457574</td>\n",
       "      <td>NaN</td>\n",
       "      <td>3000624492441</td>\n",
       "      <td>4</td>\n",
       "      <td>0</td>\n",
       "      <td>180.0</td>\n",
       "    </tr>\n",
       "    <tr>\n",
       "      <th>4337</th>\n",
       "      <td>20:26:40</td>\n",
       "      <td>-0.971296</td>\n",
       "      <td>51.458115</td>\n",
       "      <td>NaN</td>\n",
       "      <td>3000628755869</td>\n",
       "      <td>4</td>\n",
       "      <td>0</td>\n",
       "      <td>104.0</td>\n",
       "    </tr>\n",
       "    <tr>\n",
       "      <th>6931</th>\n",
       "      <td>07:25:39</td>\n",
       "      <td>-0.942301</td>\n",
       "      <td>51.474812</td>\n",
       "      <td>NaN</td>\n",
       "      <td>3000628430595</td>\n",
       "      <td>4</td>\n",
       "      <td>0</td>\n",
       "      <td>44.0</td>\n",
       "    </tr>\n",
       "    <tr>\n",
       "      <th>967</th>\n",
       "      <td>13:41:31</td>\n",
       "      <td>-0.952194</td>\n",
       "      <td>51.444067</td>\n",
       "      <td>NaN</td>\n",
       "      <td>3000623591189</td>\n",
       "      <td>9</td>\n",
       "      <td>0</td>\n",
       "      <td>NaN</td>\n",
       "    </tr>\n",
       "  </tbody>\n",
       "</table>\n",
       "</div>"
      ],
      "text/plain": [
       "      order_datetime  origin_longitude  origin_latitude  m_order_eta  \\\n",
       "10309       00:29:14         -0.966062        51.454821          NaN   \n",
       "6705        01:28:45         -0.970472        51.456725          NaN   \n",
       "304         08:22:36         -0.916708        51.439852          NaN   \n",
       "9143        07:32:27         -0.955580        51.453493       1078.0   \n",
       "10593       04:39:55         -0.946358        51.439779          NaN   \n",
       "8654        08:05:02         -0.967327        51.449395        598.0   \n",
       "3919        00:21:47         -0.971597        51.457574          NaN   \n",
       "4337        20:26:40         -0.971296        51.458115          NaN   \n",
       "6931        07:25:39         -0.942301        51.474812          NaN   \n",
       "967         13:41:31         -0.952194        51.444067          NaN   \n",
       "\n",
       "            order_gk  order_status_key  is_driver_assigned_key  \\\n",
       "10309  3000555146103                 4                       0   \n",
       "6705   3000595870644                 4                       0   \n",
       "304    3000627783633                 9                       0   \n",
       "9143   3000622140805                 4                       1   \n",
       "10593  3000554645524                 4                       0   \n",
       "8654   3000592772077                 4                       1   \n",
       "3919   3000624492441                 4                       0   \n",
       "4337   3000628755869                 4                       0   \n",
       "6931   3000628430595                 4                       0   \n",
       "967    3000623591189                 9                       0   \n",
       "\n",
       "       cancellations_time_in_seconds  \n",
       "10309                           44.0  \n",
       "6705                           121.0  \n",
       "304                              NaN  \n",
       "9143                          1017.0  \n",
       "10593                          121.0  \n",
       "8654                            48.0  \n",
       "3919                           180.0  \n",
       "4337                           104.0  \n",
       "6931                            44.0  \n",
       "967                              NaN  "
      ]
     },
     "execution_count": 4,
     "metadata": {},
     "output_type": "execute_result"
    }
   ],
   "source": [
    "# the random_state argument ensures that we get the same sample\n",
    "# each time we call the method with the same arguments\n",
    "orders.sample(n=10, random_state=42)"
   ]
  },
  {
   "cell_type": "code",
   "execution_count": 5,
   "id": "e0c3898e",
   "metadata": {},
   "outputs": [],
   "source": [
    "offers = pd.read_csv(filepath_or_buffer=\"data_offers.csv\")\n"
   ]
  },
  {
   "cell_type": "code",
   "execution_count": 6,
   "id": "22568270",
   "metadata": {},
   "outputs": [
    {
     "data": {
      "text/plain": [
       "(334363, 2)"
      ]
     },
     "execution_count": 6,
     "metadata": {},
     "output_type": "execute_result"
    }
   ],
   "source": [
    "offers.shape"
   ]
  },
  {
   "cell_type": "code",
   "execution_count": 7,
   "id": "7d248c67",
   "metadata": {},
   "outputs": [
    {
     "data": {
      "text/html": [
       "<div>\n",
       "<style scoped>\n",
       "    .dataframe tbody tr th:only-of-type {\n",
       "        vertical-align: middle;\n",
       "    }\n",
       "\n",
       "    .dataframe tbody tr th {\n",
       "        vertical-align: top;\n",
       "    }\n",
       "\n",
       "    .dataframe thead th {\n",
       "        text-align: right;\n",
       "    }\n",
       "</style>\n",
       "<table border=\"1\" class=\"dataframe\">\n",
       "  <thead>\n",
       "    <tr style=\"text-align: right;\">\n",
       "      <th></th>\n",
       "      <th>order_gk</th>\n",
       "      <th>offer_id</th>\n",
       "    </tr>\n",
       "  </thead>\n",
       "  <tbody>\n",
       "    <tr>\n",
       "      <th>244971</th>\n",
       "      <td>3000627481054</td>\n",
       "      <td>300052086404</td>\n",
       "    </tr>\n",
       "    <tr>\n",
       "      <th>236783</th>\n",
       "      <td>3000631282042</td>\n",
       "      <td>300052342376</td>\n",
       "    </tr>\n",
       "    <tr>\n",
       "      <th>22714</th>\n",
       "      <td>3000624367715</td>\n",
       "      <td>300051909011</td>\n",
       "    </tr>\n",
       "    <tr>\n",
       "      <th>306983</th>\n",
       "      <td>3000557436646</td>\n",
       "      <td>300050769980</td>\n",
       "    </tr>\n",
       "    <tr>\n",
       "      <th>170256</th>\n",
       "      <td>3000588131807</td>\n",
       "      <td>300051201442</td>\n",
       "    </tr>\n",
       "    <tr>\n",
       "      <th>316173</th>\n",
       "      <td>3000629756224</td>\n",
       "      <td>300052250019</td>\n",
       "    </tr>\n",
       "    <tr>\n",
       "      <th>234398</th>\n",
       "      <td>3000625018320</td>\n",
       "      <td>300051967737</td>\n",
       "    </tr>\n",
       "    <tr>\n",
       "      <th>122107</th>\n",
       "      <td>3000629082264</td>\n",
       "      <td>300052196687</td>\n",
       "    </tr>\n",
       "    <tr>\n",
       "      <th>60909</th>\n",
       "      <td>3000588606991</td>\n",
       "      <td>300051225443</td>\n",
       "    </tr>\n",
       "    <tr>\n",
       "      <th>52998</th>\n",
       "      <td>3000629981908</td>\n",
       "      <td>300052274857</td>\n",
       "    </tr>\n",
       "  </tbody>\n",
       "</table>\n",
       "</div>"
      ],
      "text/plain": [
       "             order_gk      offer_id\n",
       "244971  3000627481054  300052086404\n",
       "236783  3000631282042  300052342376\n",
       "22714   3000624367715  300051909011\n",
       "306983  3000557436646  300050769980\n",
       "170256  3000588131807  300051201442\n",
       "316173  3000629756224  300052250019\n",
       "234398  3000625018320  300051967737\n",
       "122107  3000629082264  300052196687\n",
       "60909   3000588606991  300051225443\n",
       "52998   3000629981908  300052274857"
      ]
     },
     "execution_count": 7,
     "metadata": {},
     "output_type": "execute_result"
    }
   ],
   "source": [
    "offers.sample(n=10, random_state=42)\n"
   ]
  },
  {
   "cell_type": "markdown",
   "id": "7d3bde39",
   "metadata": {},
   "source": [
    "Next, we would like to merge the two DataFrames into one, for easier manipulation. Pandas has the merge() method for doing exactly that. It is similar to joining tables in SQL. We specify how we want the merge to be carried out (inner) and on which column should it occur (order_gk). Then, we print a sample of the merged DataFrame"
   ]
  },
  {
   "cell_type": "code",
   "execution_count": 8,
   "id": "b3075315",
   "metadata": {},
   "outputs": [],
   "source": [
    "df = orders.merge(right=offers, how=\"inner\", on=\"order_gk\")\n",
    "#order_gk is the common column which is used to join them"
   ]
  },
  {
   "cell_type": "code",
   "execution_count": 9,
   "id": "a6909f4d",
   "metadata": {},
   "outputs": [
    {
     "data": {
      "text/html": [
       "<div>\n",
       "<style scoped>\n",
       "    .dataframe tbody tr th:only-of-type {\n",
       "        vertical-align: middle;\n",
       "    }\n",
       "\n",
       "    .dataframe tbody tr th {\n",
       "        vertical-align: top;\n",
       "    }\n",
       "\n",
       "    .dataframe thead th {\n",
       "        text-align: right;\n",
       "    }\n",
       "</style>\n",
       "<table border=\"1\" class=\"dataframe\">\n",
       "  <thead>\n",
       "    <tr style=\"text-align: right;\">\n",
       "      <th></th>\n",
       "      <th>order_datetime</th>\n",
       "      <th>origin_longitude</th>\n",
       "      <th>origin_latitude</th>\n",
       "      <th>m_order_eta</th>\n",
       "      <th>order_gk</th>\n",
       "      <th>order_status_key</th>\n",
       "      <th>is_driver_assigned_key</th>\n",
       "      <th>cancellations_time_in_seconds</th>\n",
       "      <th>offer_id</th>\n",
       "    </tr>\n",
       "  </thead>\n",
       "  <tbody>\n",
       "    <tr>\n",
       "      <th>30194</th>\n",
       "      <td>21:15:35</td>\n",
       "      <td>-0.969588</td>\n",
       "      <td>51.455780</td>\n",
       "      <td>299.0</td>\n",
       "      <td>3000555697076</td>\n",
       "      <td>4</td>\n",
       "      <td>1</td>\n",
       "      <td>223.0</td>\n",
       "      <td>300050725946</td>\n",
       "    </tr>\n",
       "    <tr>\n",
       "      <th>14748</th>\n",
       "      <td>10:13:35</td>\n",
       "      <td>-0.955958</td>\n",
       "      <td>51.430362</td>\n",
       "      <td>NaN</td>\n",
       "      <td>3000626091676</td>\n",
       "      <td>4</td>\n",
       "      <td>0</td>\n",
       "      <td>91.0</td>\n",
       "      <td>300052014519</td>\n",
       "    </tr>\n",
       "    <tr>\n",
       "      <th>29083</th>\n",
       "      <td>09:16:38</td>\n",
       "      <td>-1.033560</td>\n",
       "      <td>51.441967</td>\n",
       "      <td>NaN</td>\n",
       "      <td>3000594099225</td>\n",
       "      <td>4</td>\n",
       "      <td>0</td>\n",
       "      <td>68.0</td>\n",
       "      <td>300051458740</td>\n",
       "    </tr>\n",
       "    <tr>\n",
       "      <th>16926</th>\n",
       "      <td>02:08:09</td>\n",
       "      <td>-0.967676</td>\n",
       "      <td>51.444489</td>\n",
       "      <td>NaN</td>\n",
       "      <td>3000626980467</td>\n",
       "      <td>4</td>\n",
       "      <td>0</td>\n",
       "      <td>125.0</td>\n",
       "      <td>300052031394</td>\n",
       "    </tr>\n",
       "    <tr>\n",
       "      <th>21530</th>\n",
       "      <td>21:44:21</td>\n",
       "      <td>-0.972683</td>\n",
       "      <td>51.456762</td>\n",
       "      <td>NaN</td>\n",
       "      <td>3000554421440</td>\n",
       "      <td>4</td>\n",
       "      <td>0</td>\n",
       "      <td>11.0</td>\n",
       "      <td>300050671163</td>\n",
       "    </tr>\n",
       "    <tr>\n",
       "      <th>13008</th>\n",
       "      <td>03:03:45</td>\n",
       "      <td>-0.966745</td>\n",
       "      <td>51.453236</td>\n",
       "      <td>NaN</td>\n",
       "      <td>3000593295623</td>\n",
       "      <td>9</td>\n",
       "      <td>0</td>\n",
       "      <td>NaN</td>\n",
       "      <td>300051413313</td>\n",
       "    </tr>\n",
       "    <tr>\n",
       "      <th>2034</th>\n",
       "      <td>14:41:22</td>\n",
       "      <td>-0.948642</td>\n",
       "      <td>51.449587</td>\n",
       "      <td>NaN</td>\n",
       "      <td>3000584916226</td>\n",
       "      <td>4</td>\n",
       "      <td>0</td>\n",
       "      <td>6.0</td>\n",
       "      <td>300051090742</td>\n",
       "    </tr>\n",
       "    <tr>\n",
       "      <th>2229</th>\n",
       "      <td>20:54:03</td>\n",
       "      <td>-0.991382</td>\n",
       "      <td>51.476339</td>\n",
       "      <td>NaN</td>\n",
       "      <td>3000585716553</td>\n",
       "      <td>9</td>\n",
       "      <td>0</td>\n",
       "      <td>NaN</td>\n",
       "      <td>300051125957</td>\n",
       "    </tr>\n",
       "    <tr>\n",
       "      <th>16632</th>\n",
       "      <td>18:06:17</td>\n",
       "      <td>-0.948907</td>\n",
       "      <td>51.444643</td>\n",
       "      <td>NaN</td>\n",
       "      <td>3000627382471</td>\n",
       "      <td>4</td>\n",
       "      <td>0</td>\n",
       "      <td>113.0</td>\n",
       "      <td>300052078801</td>\n",
       "    </tr>\n",
       "    <tr>\n",
       "      <th>18189</th>\n",
       "      <td>07:52:29</td>\n",
       "      <td>-0.973793</td>\n",
       "      <td>51.458665</td>\n",
       "      <td>479.0</td>\n",
       "      <td>3000587781360</td>\n",
       "      <td>4</td>\n",
       "      <td>1</td>\n",
       "      <td>47.0</td>\n",
       "      <td>300051178628</td>\n",
       "    </tr>\n",
       "  </tbody>\n",
       "</table>\n",
       "</div>"
      ],
      "text/plain": [
       "      order_datetime  origin_longitude  origin_latitude  m_order_eta  \\\n",
       "30194       21:15:35         -0.969588        51.455780        299.0   \n",
       "14748       10:13:35         -0.955958        51.430362          NaN   \n",
       "29083       09:16:38         -1.033560        51.441967          NaN   \n",
       "16926       02:08:09         -0.967676        51.444489          NaN   \n",
       "21530       21:44:21         -0.972683        51.456762          NaN   \n",
       "13008       03:03:45         -0.966745        51.453236          NaN   \n",
       "2034        14:41:22         -0.948642        51.449587          NaN   \n",
       "2229        20:54:03         -0.991382        51.476339          NaN   \n",
       "16632       18:06:17         -0.948907        51.444643          NaN   \n",
       "18189       07:52:29         -0.973793        51.458665        479.0   \n",
       "\n",
       "            order_gk  order_status_key  is_driver_assigned_key  \\\n",
       "30194  3000555697076                 4                       1   \n",
       "14748  3000626091676                 4                       0   \n",
       "29083  3000594099225                 4                       0   \n",
       "16926  3000626980467                 4                       0   \n",
       "21530  3000554421440                 4                       0   \n",
       "13008  3000593295623                 9                       0   \n",
       "2034   3000584916226                 4                       0   \n",
       "2229   3000585716553                 9                       0   \n",
       "16632  3000627382471                 4                       0   \n",
       "18189  3000587781360                 4                       1   \n",
       "\n",
       "       cancellations_time_in_seconds      offer_id  \n",
       "30194                          223.0  300050725946  \n",
       "14748                           91.0  300052014519  \n",
       "29083                           68.0  300051458740  \n",
       "16926                          125.0  300052031394  \n",
       "21530                           11.0  300050671163  \n",
       "13008                            NaN  300051413313  \n",
       "2034                             6.0  300051090742  \n",
       "2229                             NaN  300051125957  \n",
       "16632                          113.0  300052078801  \n",
       "18189                           47.0  300051178628  "
      ]
     },
     "execution_count": 9,
     "metadata": {},
     "output_type": "execute_result"
    }
   ],
   "source": [
    "df.sample(n=10, random_state=42)\n"
   ]
  },
  {
   "cell_type": "markdown",
   "id": "73e217e3",
   "metadata": {},
   "source": [
    "We may be able to do something to improve the data quality a bit. For example, the values in order_status_key and is_driver_assigned_key are not informative of the contents but are rather just keys that point to some internal description. We could replace their values with more informative information, like replacing the 1s in is_driver_assigned_key with the string Yes and the 0s with the string No. The same can be done for the order_status_key column. Moreover, the names of the columns sound a bit technical, but we can modify them."
   ]
  },
  {
   "cell_type": "code",
   "execution_count": 10,
   "id": "4565516f",
   "metadata": {},
   "outputs": [],
   "source": [
    "import numpy as np\n",
    "\n",
    "df[\"is_driver_assigned\"] = np.where(df[\"is_driver_assigned_key\"] == 1, \"Yes\", \"No\")\n",
    "df[\"order_status\"] = np.where(df[\"order_status_key\"] == 4, \"Client Cancelled\", \"System Reject\")\n",
    "\n",
    "df.drop(columns=[\"is_driver_assigned_key\", \"order_status_key\"], inplace=True)"
   ]
  },
  {
   "cell_type": "code",
   "execution_count": 11,
   "id": "bf6735d9",
   "metadata": {},
   "outputs": [],
   "source": [
    "df = df.rename(columns={\n",
    "    \"order_datetime\": \"order_time\"\n",
    "})"
   ]
  },
  {
   "cell_type": "code",
   "execution_count": 12,
   "id": "e6cb1dc8",
   "metadata": {},
   "outputs": [
    {
     "data": {
      "text/html": [
       "<div>\n",
       "<style scoped>\n",
       "    .dataframe tbody tr th:only-of-type {\n",
       "        vertical-align: middle;\n",
       "    }\n",
       "\n",
       "    .dataframe tbody tr th {\n",
       "        vertical-align: top;\n",
       "    }\n",
       "\n",
       "    .dataframe thead th {\n",
       "        text-align: right;\n",
       "    }\n",
       "</style>\n",
       "<table border=\"1\" class=\"dataframe\">\n",
       "  <thead>\n",
       "    <tr style=\"text-align: right;\">\n",
       "      <th></th>\n",
       "      <th>order_time</th>\n",
       "      <th>origin_longitude</th>\n",
       "      <th>origin_latitude</th>\n",
       "      <th>m_order_eta</th>\n",
       "      <th>order_gk</th>\n",
       "      <th>cancellations_time_in_seconds</th>\n",
       "      <th>offer_id</th>\n",
       "      <th>is_driver_assigned</th>\n",
       "      <th>order_status</th>\n",
       "    </tr>\n",
       "  </thead>\n",
       "  <tbody>\n",
       "    <tr>\n",
       "      <th>30194</th>\n",
       "      <td>21:15:35</td>\n",
       "      <td>-0.969588</td>\n",
       "      <td>51.455780</td>\n",
       "      <td>299.0</td>\n",
       "      <td>3000555697076</td>\n",
       "      <td>223.0</td>\n",
       "      <td>300050725946</td>\n",
       "      <td>Yes</td>\n",
       "      <td>Client Cancelled</td>\n",
       "    </tr>\n",
       "    <tr>\n",
       "      <th>14748</th>\n",
       "      <td>10:13:35</td>\n",
       "      <td>-0.955958</td>\n",
       "      <td>51.430362</td>\n",
       "      <td>NaN</td>\n",
       "      <td>3000626091676</td>\n",
       "      <td>91.0</td>\n",
       "      <td>300052014519</td>\n",
       "      <td>No</td>\n",
       "      <td>Client Cancelled</td>\n",
       "    </tr>\n",
       "    <tr>\n",
       "      <th>29083</th>\n",
       "      <td>09:16:38</td>\n",
       "      <td>-1.033560</td>\n",
       "      <td>51.441967</td>\n",
       "      <td>NaN</td>\n",
       "      <td>3000594099225</td>\n",
       "      <td>68.0</td>\n",
       "      <td>300051458740</td>\n",
       "      <td>No</td>\n",
       "      <td>Client Cancelled</td>\n",
       "    </tr>\n",
       "    <tr>\n",
       "      <th>16926</th>\n",
       "      <td>02:08:09</td>\n",
       "      <td>-0.967676</td>\n",
       "      <td>51.444489</td>\n",
       "      <td>NaN</td>\n",
       "      <td>3000626980467</td>\n",
       "      <td>125.0</td>\n",
       "      <td>300052031394</td>\n",
       "      <td>No</td>\n",
       "      <td>Client Cancelled</td>\n",
       "    </tr>\n",
       "    <tr>\n",
       "      <th>21530</th>\n",
       "      <td>21:44:21</td>\n",
       "      <td>-0.972683</td>\n",
       "      <td>51.456762</td>\n",
       "      <td>NaN</td>\n",
       "      <td>3000554421440</td>\n",
       "      <td>11.0</td>\n",
       "      <td>300050671163</td>\n",
       "      <td>No</td>\n",
       "      <td>Client Cancelled</td>\n",
       "    </tr>\n",
       "    <tr>\n",
       "      <th>13008</th>\n",
       "      <td>03:03:45</td>\n",
       "      <td>-0.966745</td>\n",
       "      <td>51.453236</td>\n",
       "      <td>NaN</td>\n",
       "      <td>3000593295623</td>\n",
       "      <td>NaN</td>\n",
       "      <td>300051413313</td>\n",
       "      <td>No</td>\n",
       "      <td>System Reject</td>\n",
       "    </tr>\n",
       "    <tr>\n",
       "      <th>2034</th>\n",
       "      <td>14:41:22</td>\n",
       "      <td>-0.948642</td>\n",
       "      <td>51.449587</td>\n",
       "      <td>NaN</td>\n",
       "      <td>3000584916226</td>\n",
       "      <td>6.0</td>\n",
       "      <td>300051090742</td>\n",
       "      <td>No</td>\n",
       "      <td>Client Cancelled</td>\n",
       "    </tr>\n",
       "    <tr>\n",
       "      <th>2229</th>\n",
       "      <td>20:54:03</td>\n",
       "      <td>-0.991382</td>\n",
       "      <td>51.476339</td>\n",
       "      <td>NaN</td>\n",
       "      <td>3000585716553</td>\n",
       "      <td>NaN</td>\n",
       "      <td>300051125957</td>\n",
       "      <td>No</td>\n",
       "      <td>System Reject</td>\n",
       "    </tr>\n",
       "    <tr>\n",
       "      <th>16632</th>\n",
       "      <td>18:06:17</td>\n",
       "      <td>-0.948907</td>\n",
       "      <td>51.444643</td>\n",
       "      <td>NaN</td>\n",
       "      <td>3000627382471</td>\n",
       "      <td>113.0</td>\n",
       "      <td>300052078801</td>\n",
       "      <td>No</td>\n",
       "      <td>Client Cancelled</td>\n",
       "    </tr>\n",
       "    <tr>\n",
       "      <th>18189</th>\n",
       "      <td>07:52:29</td>\n",
       "      <td>-0.973793</td>\n",
       "      <td>51.458665</td>\n",
       "      <td>479.0</td>\n",
       "      <td>3000587781360</td>\n",
       "      <td>47.0</td>\n",
       "      <td>300051178628</td>\n",
       "      <td>Yes</td>\n",
       "      <td>Client Cancelled</td>\n",
       "    </tr>\n",
       "  </tbody>\n",
       "</table>\n",
       "</div>"
      ],
      "text/plain": [
       "      order_time  origin_longitude  origin_latitude  m_order_eta  \\\n",
       "30194   21:15:35         -0.969588        51.455780        299.0   \n",
       "14748   10:13:35         -0.955958        51.430362          NaN   \n",
       "29083   09:16:38         -1.033560        51.441967          NaN   \n",
       "16926   02:08:09         -0.967676        51.444489          NaN   \n",
       "21530   21:44:21         -0.972683        51.456762          NaN   \n",
       "13008   03:03:45         -0.966745        51.453236          NaN   \n",
       "2034    14:41:22         -0.948642        51.449587          NaN   \n",
       "2229    20:54:03         -0.991382        51.476339          NaN   \n",
       "16632   18:06:17         -0.948907        51.444643          NaN   \n",
       "18189   07:52:29         -0.973793        51.458665        479.0   \n",
       "\n",
       "            order_gk  cancellations_time_in_seconds      offer_id  \\\n",
       "30194  3000555697076                          223.0  300050725946   \n",
       "14748  3000626091676                           91.0  300052014519   \n",
       "29083  3000594099225                           68.0  300051458740   \n",
       "16926  3000626980467                          125.0  300052031394   \n",
       "21530  3000554421440                           11.0  300050671163   \n",
       "13008  3000593295623                            NaN  300051413313   \n",
       "2034   3000584916226                            6.0  300051090742   \n",
       "2229   3000585716553                            NaN  300051125957   \n",
       "16632  3000627382471                          113.0  300052078801   \n",
       "18189  3000587781360                           47.0  300051178628   \n",
       "\n",
       "      is_driver_assigned      order_status  \n",
       "30194                Yes  Client Cancelled  \n",
       "14748                 No  Client Cancelled  \n",
       "29083                 No  Client Cancelled  \n",
       "16926                 No  Client Cancelled  \n",
       "21530                 No  Client Cancelled  \n",
       "13008                 No     System Reject  \n",
       "2034                  No  Client Cancelled  \n",
       "2229                  No     System Reject  \n",
       "16632                 No  Client Cancelled  \n",
       "18189                Yes  Client Cancelled  "
      ]
     },
     "execution_count": 12,
     "metadata": {},
     "output_type": "execute_result"
    }
   ],
   "source": [
    "df.sample(n=10, random_state=42)\n"
   ]
  },
  {
   "cell_type": "markdown",
   "id": "c2ab7f67",
   "metadata": {},
   "source": [
    "At this point we are ready to start answering the questions, so let's go!\n",
    "\n"
   ]
  },
  {
   "cell_type": "markdown",
   "id": "e7350066",
   "metadata": {},
   "source": [
    "# Question 1\n",
    "Build up a distribution of orders according to reasons for failure: cancellations before and after driver assignment (YES OR NO), and reasons for order rejection (CLIENT CANCELLED OR SYSTEM REJECT). Analyse the resulting plot. Which category has the highest number of orders?\n",
    "\n",
    "One, straightforward solution to solve this question is to use the groupby method to group the DataFrame by the is_driver_assigned and order_status columns, and then count the rows in each group, i.e., each combination of values for the grouping columns.\n",
    "\n",
    "Since both are binary variables (have only two possible values), there are four possible combinations. The cell below prints the output of the proposed approach."
   ]
  },
  {
   "cell_type": "code",
   "execution_count": 13,
   "id": "597dd28f",
   "metadata": {},
   "outputs": [
    {
     "data": {
      "text/plain": [
       "is_driver_assigned  order_status    \n",
       "No                  Client Cancelled    13435\n",
       "                    System Reject        9469\n",
       "Yes                 Client Cancelled     8360\n",
       "                    System Reject           4\n",
       "Name: order_gk, dtype: int64"
      ]
     },
     "execution_count": 13,
     "metadata": {},
     "output_type": "execute_result"
    }
   ],
   "source": [
    "df.groupby(by=[\"is_driver_assigned\", \"order_status\"])[\"order_gk\"].count()"
   ]
  },
  {
   "cell_type": "markdown",
   "id": "d10480c6",
   "metadata": {},
   "source": [
    "We observe a high number of orders cancelled before a driver is assigned, implying that maybe customers have waited too long and have decided on an alternative for their transportation needs. We have 13435 orders cancelled by the client, and 9469 rejected by the system. There are 8360 client cancellations after a driver has been assigned, and only four which were rejected by the system, for some reason"
   ]
  },
  {
   "cell_type": "markdown",
   "id": "3ebadf78",
   "metadata": {},
   "source": [
    "Another interesting approach to this question is to use pivot tables (for more information, see the Pandas method and this Wikipedia article)."
   ]
  },
  {
   "cell_type": "code",
   "execution_count": 14,
   "id": "811cffed",
   "metadata": {},
   "outputs": [
    {
     "data": {
      "image/png": "[encoded data removed]",
      "text/plain": [
       "<Figure size 504x504 with 1 Axes>"
      ]
     },
     "metadata": {
      "needs_background": "light"
     },
     "output_type": "display_data"
    }
   ],
   "source": [
    "df_q1 = df.pivot_table(columns=[\"is_driver_assigned\", \"order_status\"], values=\"order_gk\", aggfunc=\"count\")\n",
    "_ = df_q1.plot(kind=\"bar\", subplots=False, figsize=(7, 7), legend=True, rot=0)"
   ]
  },
  {
   "cell_type": "markdown",
   "id": "bb2feae6",
   "metadata": {},
   "source": [
    "the structure of the pivot table is very similar to the group-by dataframe"
   ]
  },
  {
   "cell_type": "code",
   "execution_count": 15,
   "id": "307cedbb",
   "metadata": {},
   "outputs": [
    {
     "data": {
      "text/html": [
       "<div>\n",
       "<style scoped>\n",
       "    .dataframe tbody tr th:only-of-type {\n",
       "        vertical-align: middle;\n",
       "    }\n",
       "\n",
       "    .dataframe tbody tr th {\n",
       "        vertical-align: top;\n",
       "    }\n",
       "\n",
       "    .dataframe thead tr th {\n",
       "        text-align: left;\n",
       "    }\n",
       "</style>\n",
       "<table border=\"1\" class=\"dataframe\">\n",
       "  <thead>\n",
       "    <tr>\n",
       "      <th>is_driver_assigned</th>\n",
       "      <th colspan=\"2\" halign=\"left\">No</th>\n",
       "      <th colspan=\"2\" halign=\"left\">Yes</th>\n",
       "    </tr>\n",
       "    <tr>\n",
       "      <th>order_status</th>\n",
       "      <th>Client Cancelled</th>\n",
       "      <th>System Reject</th>\n",
       "      <th>Client Cancelled</th>\n",
       "      <th>System Reject</th>\n",
       "    </tr>\n",
       "  </thead>\n",
       "  <tbody>\n",
       "    <tr>\n",
       "      <th>order_gk</th>\n",
       "      <td>13435</td>\n",
       "      <td>9469</td>\n",
       "      <td>8360</td>\n",
       "      <td>4</td>\n",
       "    </tr>\n",
       "  </tbody>\n",
       "</table>\n",
       "</div>"
      ],
      "text/plain": [
       "is_driver_assigned               No                            Yes  \\\n",
       "order_status       Client Cancelled System Reject Client Cancelled   \n",
       "order_gk                      13435          9469             8360   \n",
       "\n",
       "is_driver_assigned                \n",
       "order_status       System Reject  \n",
       "order_gk                       4  "
      ]
     },
     "execution_count": 15,
     "metadata": {},
     "output_type": "execute_result"
    }
   ],
   "source": [
    "df_q1"
   ]
  },
  {
   "cell_type": "markdown",
   "id": "40661a44",
   "metadata": {},
   "source": [
    "# Question 2\n",
    "Plot the distribution of failed orders by hours. Is there a trend that certain hours have an abnormally high proportion of one category or another? What hours are the biggest fails? How can this be explained?\n",
    "\n",
    "This question builds up upon the previous one by delving deeper into the analysis of failed orders. Rather than just plotting the distribution of fails by category (reason for cancellation, and the driver assignment), we want to know when these fails occur, and if there is some specific period in the day when one category prevails over others."
   ]
  },
  {
   "cell_type": "code",
   "execution_count": 16,
   "id": "0e9cac76",
   "metadata": {},
   "outputs": [],
   "source": [
    "# extract hour from the time column\n",
    "df[\"order_hour\"] = df[\"order_time\"].str.split(\":\").apply(lambda split: split[0])"
   ]
  },
  {
   "cell_type": "code",
   "execution_count": 18,
   "id": "a9943371",
   "metadata": {},
   "outputs": [
    {
     "data": {
      "text/html": [
       "<div>\n",
       "<style scoped>\n",
       "    .dataframe tbody tr th:only-of-type {\n",
       "        vertical-align: middle;\n",
       "    }\n",
       "\n",
       "    .dataframe tbody tr th {\n",
       "        vertical-align: top;\n",
       "    }\n",
       "\n",
       "    .dataframe thead th {\n",
       "        text-align: right;\n",
       "    }\n",
       "</style>\n",
       "<table border=\"1\" class=\"dataframe\">\n",
       "  <thead>\n",
       "    <tr style=\"text-align: right;\">\n",
       "      <th></th>\n",
       "      <th>order_time</th>\n",
       "      <th>origin_longitude</th>\n",
       "      <th>origin_latitude</th>\n",
       "      <th>m_order_eta</th>\n",
       "      <th>order_gk</th>\n",
       "      <th>cancellations_time_in_seconds</th>\n",
       "      <th>offer_id</th>\n",
       "      <th>is_driver_assigned</th>\n",
       "      <th>order_status</th>\n",
       "      <th>order_hour</th>\n",
       "    </tr>\n",
       "  </thead>\n",
       "  <tbody>\n",
       "    <tr>\n",
       "      <th>30194</th>\n",
       "      <td>21:15:35</td>\n",
       "      <td>-0.969588</td>\n",
       "      <td>51.455780</td>\n",
       "      <td>299.0</td>\n",
       "      <td>3000555697076</td>\n",
       "      <td>223.0</td>\n",
       "      <td>300050725946</td>\n",
       "      <td>Yes</td>\n",
       "      <td>Client Cancelled</td>\n",
       "      <td>21</td>\n",
       "    </tr>\n",
       "    <tr>\n",
       "      <th>14748</th>\n",
       "      <td>10:13:35</td>\n",
       "      <td>-0.955958</td>\n",
       "      <td>51.430362</td>\n",
       "      <td>NaN</td>\n",
       "      <td>3000626091676</td>\n",
       "      <td>91.0</td>\n",
       "      <td>300052014519</td>\n",
       "      <td>No</td>\n",
       "      <td>Client Cancelled</td>\n",
       "      <td>10</td>\n",
       "    </tr>\n",
       "    <tr>\n",
       "      <th>29083</th>\n",
       "      <td>09:16:38</td>\n",
       "      <td>-1.033560</td>\n",
       "      <td>51.441967</td>\n",
       "      <td>NaN</td>\n",
       "      <td>3000594099225</td>\n",
       "      <td>68.0</td>\n",
       "      <td>300051458740</td>\n",
       "      <td>No</td>\n",
       "      <td>Client Cancelled</td>\n",
       "      <td>09</td>\n",
       "    </tr>\n",
       "    <tr>\n",
       "      <th>16926</th>\n",
       "      <td>02:08:09</td>\n",
       "      <td>-0.967676</td>\n",
       "      <td>51.444489</td>\n",
       "      <td>NaN</td>\n",
       "      <td>3000626980467</td>\n",
       "      <td>125.0</td>\n",
       "      <td>300052031394</td>\n",
       "      <td>No</td>\n",
       "      <td>Client Cancelled</td>\n",
       "      <td>02</td>\n",
       "    </tr>\n",
       "    <tr>\n",
       "      <th>21530</th>\n",
       "      <td>21:44:21</td>\n",
       "      <td>-0.972683</td>\n",
       "      <td>51.456762</td>\n",
       "      <td>NaN</td>\n",
       "      <td>3000554421440</td>\n",
       "      <td>11.0</td>\n",
       "      <td>300050671163</td>\n",
       "      <td>No</td>\n",
       "      <td>Client Cancelled</td>\n",
       "      <td>21</td>\n",
       "    </tr>\n",
       "  </tbody>\n",
       "</table>\n",
       "</div>"
      ],
      "text/plain": [
       "      order_time  origin_longitude  origin_latitude  m_order_eta  \\\n",
       "30194   21:15:35         -0.969588        51.455780        299.0   \n",
       "14748   10:13:35         -0.955958        51.430362          NaN   \n",
       "29083   09:16:38         -1.033560        51.441967          NaN   \n",
       "16926   02:08:09         -0.967676        51.444489          NaN   \n",
       "21530   21:44:21         -0.972683        51.456762          NaN   \n",
       "\n",
       "            order_gk  cancellations_time_in_seconds      offer_id  \\\n",
       "30194  3000555697076                          223.0  300050725946   \n",
       "14748  3000626091676                           91.0  300052014519   \n",
       "29083  3000594099225                           68.0  300051458740   \n",
       "16926  3000626980467                          125.0  300052031394   \n",
       "21530  3000554421440                           11.0  300050671163   \n",
       "\n",
       "      is_driver_assigned      order_status order_hour  \n",
       "30194                Yes  Client Cancelled         21  \n",
       "14748                 No  Client Cancelled         10  \n",
       "29083                 No  Client Cancelled         09  \n",
       "16926                 No  Client Cancelled         02  \n",
       "21530                 No  Client Cancelled         21  "
      ]
     },
     "execution_count": 18,
     "metadata": {},
     "output_type": "execute_result"
    }
   ],
   "source": [
    "# print a small sample to make sure that the transformation is correct\n",
    "df.sample(n=5, random_state=42)\n",
    "#new column is created"
   ]
  },
  {
   "cell_type": "code",
   "execution_count": 19,
   "id": "7385ac70",
   "metadata": {},
   "outputs": [
    {
     "data": {
      "image/png": "[encoded data removed]",
      "text/plain": [
       "<Figure size 720x504 with 1 Axes>"
      ]
     },
     "metadata": {
      "needs_background": "light"
     },
     "output_type": "display_data"
    }
   ],
   "source": [
    "_ = df.groupby(by=\"order_hour\")[\"order_gk\"].count().plot(figsize=(10, 7),\n",
    "                                                         legend=True,\n",
    "                                                         xticks=range(0, 24),\n",
    "                                                         title=\"Count of Failed Orders by Hour of Day\")"
   ]
  },
  {
   "cell_type": "markdown",
   "id": "ad820ac6",
   "metadata": {},
   "source": [
    "As a first step towards a DataFrame that contains such aggregated information we group-by by the order hour, the driver-assigned flag, and the order status, and then count the number of order_gk."
   ]
  },
  {
   "cell_type": "code",
   "execution_count": 20,
   "id": "e24867f4",
   "metadata": {},
   "outputs": [
    {
     "data": {
      "text/plain": [
       "order_hour  is_driver_assigned  order_status    \n",
       "00          No                  Client Cancelled     957\n",
       "                                System Reject        706\n",
       "            Yes                 Client Cancelled     326\n",
       "                                System Reject          4\n",
       "01          No                  Client Cancelled     633\n",
       "                                                    ... \n",
       "22          No                  System Reject        660\n",
       "            Yes                 Client Cancelled     415\n",
       "23          No                  Client Cancelled    1144\n",
       "                                System Reject        883\n",
       "            Yes                 Client Cancelled     444\n",
       "Name: order_gk, Length: 73, dtype: int64"
      ]
     },
     "execution_count": 20,
     "metadata": {},
     "output_type": "execute_result"
    }
   ],
   "source": [
    "grouped_q2 = df.groupby(by=[\"order_hour\", \"is_driver_assigned\", \"order_status\"])[\"order_gk\"].count()\n",
    "grouped_q2"
   ]
  },
  {
   "cell_type": "code",
   "execution_count": 21,
   "id": "fa764120",
   "metadata": {},
   "outputs": [
    {
     "data": {
      "image/png": "[encoded data removed]",
      "text/plain": [
       "<Figure size 936x504 with 1 Axes>"
      ]
     },
     "metadata": {
      "needs_background": "light"
     },
     "output_type": "display_data"
    }
   ],
   "source": [
    "_ = grouped_q2.reset_index().pivot(index=\"order_hour\",\n",
    "                                   columns=[\"is_driver_assigned\", \"order_status\"],\n",
    "                                   values=\"order_gk\").plot(xticks=range(0, 24),\n",
    "                                                           figsize=(13, 7),\n",
    "                                                           title=\"Count of Failed Orders Per Hour and Category\")"
   ]
  },
  {
   "cell_type": "markdown",
   "id": "c417ce93",
   "metadata": {},
   "source": [
    "The four system rejects with the assigned driver occurred around midnight (see the output of the grouped DataFrame). The rest of the categories follow similar distribution, with the client cancellations with the assigned driver having a substantially lower count during the night hours."
   ]
  },
  {
   "cell_type": "markdown",
   "id": "eae9b707",
   "metadata": {},
   "source": [
    "# Question 3\n",
    "Plot the average time to cancellation with and without driver, by hour. Can we draw any conclusions from this plot?\n",
    "\n",
    "To solve this question we are going to take the same approach as the previous question.\n",
    "\n",
    "First, we will aggregate the DataFrame by the order hour and the driver-assignment flag. Then, we will aggregate the cancellations_time_in_seconds column with the function mean. This will give us the required, aggregated information."
   ]
  },
  {
   "cell_type": "code",
   "execution_count": 22,
   "id": "3b97f80d",
   "metadata": {},
   "outputs": [
    {
     "data": {
      "text/plain": [
       "order_hour  is_driver_assigned\n",
       "00          No                    115.126437\n",
       "            Yes                   276.082822\n",
       "01          No                    100.593997\n",
       "            Yes                   296.312081\n",
       "02          No                    121.305461\n",
       "            Yes                   301.466667\n",
       "03          No                    129.182301\n",
       "            Yes                   368.682051\n",
       "04          No                    100.733333\n",
       "            Yes                   245.250000\n",
       "05          No                    102.838710\n",
       "            Yes                   156.617021\n",
       "06          No                    202.952663\n",
       "            Yes                   225.508772\n",
       "07          No                    141.177820\n",
       "            Yes                   177.640232\n",
       "08          No                    132.625432\n",
       "            Yes                   172.896296\n",
       "09          No                    138.014894\n",
       "            Yes                   230.821862\n",
       "10          No                     93.795082\n",
       "            Yes                   206.447368\n",
       "11          No                     93.090323\n",
       "            Yes                   276.793103\n",
       "12          No                    128.224299\n",
       "            Yes                   243.000000\n",
       "13          No                    103.577982\n",
       "            Yes                   248.301170\n",
       "14          No                    112.752412\n",
       "            Yes                   241.367003\n",
       "15          No                    140.970492\n",
       "            Yes                   188.380762\n",
       "16          No                    123.181102\n",
       "            Yes                   217.126844\n",
       "17          No                    106.842593\n",
       "            Yes                   280.782796\n",
       "18          No                     85.845638\n",
       "            Yes                   270.277333\n",
       "19          No                    103.231405\n",
       "            Yes                   151.039088\n",
       "20          No                    117.518072\n",
       "            Yes                   214.517341\n",
       "21          No                    130.828290\n",
       "            Yes                   224.443077\n",
       "22          No                    103.662474\n",
       "            Yes                   230.720482\n",
       "23          No                    117.294580\n",
       "            Yes                   320.189189\n",
       "Name: cancellations_time_in_seconds, dtype: float64"
      ]
     },
     "execution_count": 22,
     "metadata": {},
     "output_type": "execute_result"
    }
   ],
   "source": [
    "grouped_q3 = df.groupby(by=[\"order_hour\", \"is_driver_assigned\"])[\"cancellations_time_in_seconds\"].mean()\n",
    "grouped_q3"
   ]
  },
  {
   "cell_type": "code",
   "execution_count": 23,
   "id": "d1b7fd28",
   "metadata": {},
   "outputs": [
    {
     "data": {
      "image/png": "[encoded data removed]",
      "text/plain": [
       "<Figure size 936x504 with 1 Axes>"
      ]
     },
     "metadata": {
      "needs_background": "light"
     },
     "output_type": "display_data"
    }
   ],
   "source": [
    "_ = grouped_q3.reset_index().pivot(index=\"order_hour\",\n",
    "                                   columns=\"is_driver_assigned\",\n",
    "                                   values=\"cancellations_time_in_seconds\").plot(xticks=range(0, 24),\n",
    "                                                                                figsize=(13, 7),\n",
    "                                                                                title=\"Average Time to Cancellation Per Hour and Driver Assignment\")"
   ]
  },
  {
   "cell_type": "markdown",
   "id": "c320985d",
   "metadata": {},
   "source": [
    "The average time to cancellation is higher on orders with an assigned driver than without, for each hour without exception. The peak occurs at 3 A.M. At this time there are a lot of client cancellations, so a logical explanation would be that clients have waited too long for the driver."
   ]
  },
  {
   "cell_type": "markdown",
   "id": "2a472e9d",
   "metadata": {},
   "source": [
    "# Question 4\n",
    "Plot the distribution of average ETA by hours. How can this plot be explained?\n",
    "\n",
    "The solution to this question is quite straightforward. We simply group-by the DataFrame on the order hour, and aggregate the m_order_eta column with a mean function. Then, we plot the resulting DataFrame. The result is in the cell immediately below."
   ]
  },
  {
   "cell_type": "code",
   "execution_count": 24,
   "id": "4c1820c3",
   "metadata": {},
   "outputs": [
    {
     "data": {
      "image/png": "[encoded data removed]",
      "text/plain": [
       "<Figure size 1008x504 with 1 Axes>"
      ]
     },
     "metadata": {
      "needs_background": "light"
     },
     "output_type": "display_data"
    }
   ],
   "source": [
    "_ = df.groupby(by=\"order_hour\")[\"m_order_eta\"].mean().plot(figsize=(14, 7),\n",
    "                                                           xticks=range(0, 24),\n",
    "                                                           title=\"Average ETA per hour\")"
   ]
  },
  {
   "cell_type": "markdown",
   "id": "b36224ca",
   "metadata": {},
   "source": [
    "The line very closely matches the count of failed orders per hour, indicating that the number of failed orders increases as the average waiting time of the client increases."
   ]
  },
  {
   "cell_type": "code",
   "execution_count": null,
   "id": "424f80fd",
   "metadata": {},
   "outputs": [],
   "source": []
  }
 ],
 "metadata": {
  "kernelspec": {
   "display_name": "Python 3 (ipykernel)",
   "language": "python",
   "name": "python3"
  },
  "language_info": {
   "codemirror_mode": {
    "name": "ipython",
    "version": 3
   },
   "file_extension": ".py",
   "mimetype": "text/x-python",
   "name": "python",
   "nbconvert_exporter": "python",
   "pygments_lexer": "ipython3",
   "version": "3.9.12"
  }
 },
 "nbformat": 4,
 "nbformat_minor": 5
}
